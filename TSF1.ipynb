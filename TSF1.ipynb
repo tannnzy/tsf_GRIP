{
 "cells": [
  {
   "cell_type": "code",
   "execution_count": 1,
   "metadata": {
    "id": "pplElSD_sD8V"
   },
   "outputs": [],
   "source": [
    "#Importing necessary libraries\n",
    "import numpy as np\n",
    "import pandas as pd\n",
    "import matplotlib.pyplot as plt"
   ]
  },
  {
   "cell_type": "code",
   "execution_count": 2,
   "metadata": {
    "id": "30_xzECdsz5-"
   },
   "outputs": [],
   "source": [
    "#Importing data\n",
    "url = \"http://bit.ly/w-data\"\n",
    "data = pd.read_csv(url)"
   ]
  },
  {
   "cell_type": "code",
   "execution_count": 3,
   "metadata": {
    "colab": {
     "base_uri": "https://localhost:8080/",
     "height": 494
    },
    "id": "rWdfpn_As93z",
    "outputId": "29aa2112-5f3d-4d17-97e4-291e62de19f7"
   },
   "outputs": [
    {
     "name": "stdout",
     "output_type": "stream",
     "text": [
      "Data Shape: \n",
      "(25, 2)\n",
      "\n",
      "Data Description: \n",
      "Hours     float64\n",
      "Scores      int64\n",
      "dtype: object\n",
      "\n",
      "Data : \n"
     ]
    },
    {
     "data": {
      "text/html": [
       "<div>\n",
       "<style scoped>\n",
       "    .dataframe tbody tr th:only-of-type {\n",
       "        vertical-align: middle;\n",
       "    }\n",
       "\n",
       "    .dataframe tbody tr th {\n",
       "        vertical-align: top;\n",
       "    }\n",
       "\n",
       "    .dataframe thead th {\n",
       "        text-align: right;\n",
       "    }\n",
       "</style>\n",
       "<table border=\"1\" class=\"dataframe\">\n",
       "  <thead>\n",
       "    <tr style=\"text-align: right;\">\n",
       "      <th></th>\n",
       "      <th>Hours</th>\n",
       "      <th>Scores</th>\n",
       "    </tr>\n",
       "  </thead>\n",
       "  <tbody>\n",
       "    <tr>\n",
       "      <th>0</th>\n",
       "      <td>2.5</td>\n",
       "      <td>21</td>\n",
       "    </tr>\n",
       "    <tr>\n",
       "      <th>1</th>\n",
       "      <td>5.1</td>\n",
       "      <td>47</td>\n",
       "    </tr>\n",
       "    <tr>\n",
       "      <th>2</th>\n",
       "      <td>3.2</td>\n",
       "      <td>27</td>\n",
       "    </tr>\n",
       "    <tr>\n",
       "      <th>3</th>\n",
       "      <td>8.5</td>\n",
       "      <td>75</td>\n",
       "    </tr>\n",
       "    <tr>\n",
       "      <th>4</th>\n",
       "      <td>3.5</td>\n",
       "      <td>30</td>\n",
       "    </tr>\n",
       "    <tr>\n",
       "      <th>5</th>\n",
       "      <td>1.5</td>\n",
       "      <td>20</td>\n",
       "    </tr>\n",
       "    <tr>\n",
       "      <th>6</th>\n",
       "      <td>9.2</td>\n",
       "      <td>88</td>\n",
       "    </tr>\n",
       "    <tr>\n",
       "      <th>7</th>\n",
       "      <td>5.5</td>\n",
       "      <td>60</td>\n",
       "    </tr>\n",
       "    <tr>\n",
       "      <th>8</th>\n",
       "      <td>8.3</td>\n",
       "      <td>81</td>\n",
       "    </tr>\n",
       "    <tr>\n",
       "      <th>9</th>\n",
       "      <td>2.7</td>\n",
       "      <td>25</td>\n",
       "    </tr>\n",
       "  </tbody>\n",
       "</table>\n",
       "</div>"
      ],
      "text/plain": [
       "   Hours  Scores\n",
       "0    2.5      21\n",
       "1    5.1      47\n",
       "2    3.2      27\n",
       "3    8.5      75\n",
       "4    3.5      30\n",
       "5    1.5      20\n",
       "6    9.2      88\n",
       "7    5.5      60\n",
       "8    8.3      81\n",
       "9    2.7      25"
      ]
     },
     "execution_count": 3,
     "metadata": {},
     "output_type": "execute_result"
    }
   ],
   "source": [
    "#Data Analysis\n",
    "print(\"Data Shape: \")\n",
    "print(data.shape)\n",
    "print(\"\\nData Description: \")\n",
    "print(data.dtypes)\n",
    "print(\"\\nData : \")\n",
    "data.head(10)"
   ]
  },
  {
   "cell_type": "code",
   "execution_count": 4,
   "metadata": {
    "colab": {
     "base_uri": "https://localhost:8080/",
     "height": 295
    },
    "id": "2g0dgQBttNNR",
    "outputId": "52eb868a-1193-4771-ad5c-935190c063f0"
   },
   "outputs": [
    {
     "data": {
      "image/png": "[encoded data removed]",
      "text/plain": [
       "<Figure size 432x288 with 1 Axes>"
      ]
     },
     "metadata": {
      "needs_background": "light"
     },
     "output_type": "display_data"
    }
   ],
   "source": [
    "# Data Visualization\n",
    "data.plot(x='Hours', y='Scores', style='o')  \n",
    "plt.title('Hours vs Percentage')  \n",
    "plt.xlabel('Hours Studied')  \n",
    "plt.ylabel('Percentage Score')  \n",
    "plt.show()"
   ]
  },
  {
   "cell_type": "code",
   "execution_count": 5,
   "metadata": {
    "id": "usI3gLYTvuEC"
   },
   "outputs": [],
   "source": [
    "#Preparing Data\n",
    "X = data.iloc[:, :-1].values  \n",
    "y = data.iloc[:, 1].values  \n"
   ]
  },
  {
   "cell_type": "code",
   "execution_count": 6,
   "metadata": {
    "id": "8qei1TExwcin"
   },
   "outputs": [],
   "source": [
    "#Splitting data into train set and test set\n",
    "from sklearn.model_selection import train_test_split  \n",
    "\n",
    "X_train, X_test, y_train, y_test = train_test_split(X, y, test_size=0.2, random_state=2) "
   ]
  },
  {
   "cell_type": "code",
   "execution_count": 7,
   "metadata": {
    "colab": {
     "base_uri": "https://localhost:8080/"
    },
    "id": "t65KRxtXwz61",
    "outputId": "923924ea-eaf1-441a-d7ee-cbbf9eb6e17b"
   },
   "outputs": [
    {
     "data": {
      "text/plain": [
       "LinearRegression()"
      ]
     },
     "execution_count": 7,
     "metadata": {},
     "output_type": "execute_result"
    }
   ],
   "source": [
    "#Applying linear regression model\n",
    "from sklearn.linear_model import LinearRegression  \n",
    "\n",
    "regressor = LinearRegression()  \n",
    "regressor.fit(X_train, y_train) "
   ]
  },
  {
   "cell_type": "code",
   "execution_count": 8,
   "metadata": {
    "colab": {
     "base_uri": "https://localhost:8080/",
     "height": 346
    },
    "id": "Pon_4rQ0x81Y",
    "outputId": "0d789d22-92bd-4181-ae30-342d0b6435a5"
   },
   "outputs": [
    {
     "name": "stdout",
     "output_type": "stream",
     "text": [
      "Slope (m): [9.94061514]\n",
      "Y intercept (c): 1.5079104828268726\n",
      "\n"
     ]
    },
    {
     "data": {
      "image/png": "[encoded data removed]",
      "text/plain": [
       "<Figure size 432x288 with 1 Axes>"
      ]
     },
     "metadata": {
      "needs_background": "light"
     },
     "output_type": "display_data"
    }
   ],
   "source": [
    "# Plotting the regression line\n",
    "print(\"Slope (m): \" + str(regressor.coef_))\n",
    "print(\"Y intercept (c): \" + str(regressor.intercept_))\n",
    "#Line: y = mx + c\n",
    "line = regressor.coef_*X+regressor.intercept_\n",
    "print()\n",
    "# Plotting for the test data\n",
    "plt.scatter(X, y)\n",
    "plt.plot(X, line);\n",
    "plt.title('Hours vs Percentage')  \n",
    "plt.xlabel('Hours Studied')  \n",
    "plt.ylabel('Percentage Score') \n",
    "plt.show()"
   ]
  },
  {
   "cell_type": "code",
   "execution_count": 9,
   "metadata": {
    "id": "qVOZMjvk36-u"
   },
   "outputs": [],
   "source": [
    "#Predicting test dataset\n",
    "y_pred = regressor.predict(X_test)"
   ]
  },
  {
   "cell_type": "code",
   "execution_count": 10,
   "metadata": {
    "colab": {
     "base_uri": "https://localhost:8080/"
    },
    "id": "kQfSw3Bp5BUy",
    "outputId": "60dafa7d-3905-4adf-fa2d-222a17bbd50f"
   },
   "outputs": [
    {
     "name": "stdout",
     "output_type": "stream",
     "text": [
      "Hours :[1.1]\n",
      "Actual :17\n",
      "Predicted :12.442587140279223\n",
      "\n",
      "Hours :[2.5]\n",
      "Actual :21\n",
      "Predicted :26.359448340673122\n",
      "\n",
      "Hours :[1.9]\n",
      "Actual :24\n",
      "Predicted :20.39507925479002\n",
      "\n",
      "Hours :[9.2]\n",
      "Actual :88\n",
      "Predicted :92.96156979970107\n",
      "\n",
      "Hours :[6.9]\n",
      "Actual :76\n",
      "Predicted :70.09815497048253\n",
      "\n"
     ]
    }
   ],
   "source": [
    "# Comparing Actual vs Predicted test data on hours\n",
    "for i in range(len(y_test)):\n",
    "  print(\"Hours :\"+str(X_test[i]))\n",
    "  print(\"Actual :\"+str(y_test[i]))\n",
    "  print(\"Predicted :\"+str(y_pred[i]))\n",
    "  print()"
   ]
  },
  {
   "cell_type": "code",
   "execution_count": 11,
   "metadata": {
    "colab": {
     "base_uri": "https://localhost:8080/"
    },
    "id": "JU7kJ6w65SLV",
    "outputId": "cb44b03d-5246-47c4-d8da-ae2982274f28"
   },
   "outputs": [
    {
     "name": "stdout",
     "output_type": "stream",
     "text": [
      "Mean Absolute Error: 4.877039354964484\n"
     ]
    }
   ],
   "source": [
    "#Model Evaluation\n",
    "from sklearn import metrics  \n",
    "print('Mean Absolute Error:', metrics.mean_absolute_error(y_test, y_pred)) "
   ]
  },
  {
   "cell_type": "code",
   "execution_count": 12,
   "metadata": {
    "colab": {
     "base_uri": "https://localhost:8080/"
    },
    "id": "NfDaFStH6Bxv",
    "outputId": "f271d4a8-8e3d-4f39-839f-1503136acda4"
   },
   "outputs": [
    {
     "name": "stdout",
     "output_type": "stream",
     "text": [
      "Hours :[3]\n",
      "Scores :31.32975591224237\n",
      "\n",
      "Hours :[5]\n",
      "Scores :51.21098619851937\n",
      "\n",
      "Hours :[7.5]\n",
      "Scores :76.06252405636562\n",
      "\n",
      "Hours :[9]\n",
      "Scores :90.97344677107337\n",
      "\n"
     ]
    }
   ],
   "source": [
    "#Predicting Scores with inputing hours\n",
    "hours=[[3],[5],[7.5],[9]]\n",
    "prediction = regressor.predict(hours)\n",
    "for i in range(len(hours)):\n",
    "  print(\"Hours :\"+str(hours[i]))\n",
    "  print(\"Scores :\"+str(prediction[i]))\n",
    "  print()"
   ]
  },
  {
   "cell_type": "code",
   "execution_count": null,
   "metadata": {
    "id": "aiFVDCFU6jfe"
   },
   "outputs": [],
   "source": []
  },
  {
   "cell_type": "code",
   "execution_count": null,
   "metadata": {},
   "outputs": [],
   "source": []
  },
  {
   "cell_type": "code",
   "execution_count": null,
   "metadata": {},
   "outputs": [],
   "source": []
  },
  {
   "cell_type": "code",
   "execution_count": null,
   "metadata": {},
   "outputs": [],
   "source": []
  },
  {
   "cell_type": "code",
   "execution_count": null,
   "metadata": {},
   "outputs": [],
   "source": []
  }
 ],
 "metadata": {
  "colab": {
   "collapsed_sections": [],
   "name": "Task1_ScorePrediction.ipynb",
   "provenance": []
  },
  "kernelspec": {
   "display_name": "Python 3",
   "language": "python",
   "name": "python3"
  },
  "language_info": {
   "codemirror_mode": {
    "name": "ipython",
    "version": 3
   },
   "file_extension": ".py",
   "mimetype": "text/x-python",
   "name": "python",
   "nbconvert_exporter": "python",
   "pygments_lexer": "ipython3",
   "version": "3.8.5"
  }
 },
 "nbformat": 4,
 "nbformat_minor": 1
}
